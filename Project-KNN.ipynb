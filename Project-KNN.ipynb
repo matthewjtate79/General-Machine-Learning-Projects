{
 "cells": [
  {
   "cell_type": "code",
   "execution_count": 1,
   "outputs": [
    {
     "data": {
      "text/plain": "             obj_ID       alpha      delta         u         g         r  \\\n0      1.237661e+18  135.689107  32.494632  23.87882  22.27530  20.39501   \n1      1.237665e+18  144.826101  31.274185  24.77759  22.83188  22.58444   \n2      1.237661e+18  142.188790  35.582444  25.26307  22.66389  20.60976   \n3      1.237663e+18  338.741038  -0.402828  22.13682  23.77656  21.61162   \n4      1.237680e+18  345.282593  21.183866  19.43718  17.58028  16.49747   \n...             ...         ...        ...       ...       ...       ...   \n99995  1.237679e+18   39.620709  -2.594074  22.16759  22.97586  21.90404   \n99996  1.237679e+18   29.493819  19.798874  22.69118  22.38628  20.45003   \n99997  1.237668e+18  224.587407  15.700707  21.16916  19.26997  18.20428   \n99998  1.237661e+18  212.268621  46.660365  25.35039  21.63757  19.91386   \n99999  1.237661e+18  196.896053  49.464643  22.62171  21.79745  20.60115   \n\n              i         z  run_ID  cam_col  field_ID   spec_obj_ID  fiber_ID  \\\n0      19.16573  18.79371    3606        2        79  6.543777e+18       171   \n1      21.16812  21.61427    4518        5       119  1.176014e+19       427   \n2      19.34857  18.94827    3606        2       120  5.152200e+18       299   \n3      20.50454  19.25010    4192        3       214  1.030107e+19       775   \n4      15.97711  15.54461    8102        3       137  6.891865e+18       842   \n...         ...       ...     ...      ...       ...           ...       ...   \n99995  21.30548  20.73569    7778        2       581  1.055431e+19       438   \n99996  19.75759  19.41526    7917        1       289  8.586351e+18       866   \n99997  17.69034  17.35221    5314        4       308  3.112008e+18        74   \n99998  19.07254  18.62482    3650        4       131  7.601080e+18       470   \n99999  20.00959  19.28075    3650        4        60  8.343152e+18       851   \n\n       redshift  plate    MJD   class  \n0      0.634794   5812  56354  GALAXY  \n1      0.779136  10445  58158  GALAXY  \n2      0.644195   4576  55592  GALAXY  \n3      0.932346   9149  58039  GALAXY  \n4      0.116123   6121  56187  GALAXY  \n...         ...    ...    ...     ...  \n99995  0.000000   9374  57749  GALAXY  \n99996  0.404895   7626  56934  GALAXY  \n99997  0.143366   2764  54535  GALAXY  \n99998  0.455040   6751  56368  GALAXY  \n99999  0.542944   7410  57104  GALAXY  \n\n[100000 rows x 17 columns]",
      "text/html": "<div>\n<style scoped>\n    .dataframe tbody tr th:only-of-type {\n        vertical-align: middle;\n    }\n\n    .dataframe tbody tr th {\n        vertical-align: top;\n    }\n\n    .dataframe thead th {\n        text-align: right;\n    }\n</style>\n<table border=\"1\" class=\"dataframe\">\n  <thead>\n    <tr style=\"text-align: right;\">\n      <th></th>\n      <th>obj_ID</th>\n      <th>alpha</th>\n      <th>delta</th>\n      <th>u</th>\n      <th>g</th>\n      <th>r</th>\n      <th>i</th>\n      <th>z</th>\n      <th>run_ID</th>\n      <th>cam_col</th>\n      <th>field_ID</th>\n      <th>spec_obj_ID</th>\n      <th>fiber_ID</th>\n      <th>redshift</th>\n      <th>plate</th>\n      <th>MJD</th>\n      <th>class</th>\n    </tr>\n  </thead>\n  <tbody>\n    <tr>\n      <th>0</th>\n      <td>1.237661e+18</td>\n      <td>135.689107</td>\n      <td>32.494632</td>\n      <td>23.87882</td>\n      <td>22.27530</td>\n      <td>20.39501</td>\n      <td>19.16573</td>\n      <td>18.79371</td>\n      <td>3606</td>\n      <td>2</td>\n      <td>79</td>\n      <td>6.543777e+18</td>\n      <td>171</td>\n      <td>0.634794</td>\n      <td>5812</td>\n      <td>56354</td>\n      <td>GALAXY</td>\n    </tr>\n    <tr>\n      <th>1</th>\n      <td>1.237665e+18</td>\n      <td>144.826101</td>\n      <td>31.274185</td>\n      <td>24.77759</td>\n      <td>22.83188</td>\n      <td>22.58444</td>\n      <td>21.16812</td>\n      <td>21.61427</td>\n      <td>4518</td>\n      <td>5</td>\n      <td>119</td>\n      <td>1.176014e+19</td>\n      <td>427</td>\n      <td>0.779136</td>\n      <td>10445</td>\n      <td>58158</td>\n      <td>GALAXY</td>\n    </tr>\n    <tr>\n      <th>2</th>\n      <td>1.237661e+18</td>\n      <td>142.188790</td>\n      <td>35.582444</td>\n      <td>25.26307</td>\n      <td>22.66389</td>\n      <td>20.60976</td>\n      <td>19.34857</td>\n      <td>18.94827</td>\n      <td>3606</td>\n      <td>2</td>\n      <td>120</td>\n      <td>5.152200e+18</td>\n      <td>299</td>\n      <td>0.644195</td>\n      <td>4576</td>\n      <td>55592</td>\n      <td>GALAXY</td>\n    </tr>\n    <tr>\n      <th>3</th>\n      <td>1.237663e+18</td>\n      <td>338.741038</td>\n      <td>-0.402828</td>\n      <td>22.13682</td>\n      <td>23.77656</td>\n      <td>21.61162</td>\n      <td>20.50454</td>\n      <td>19.25010</td>\n      <td>4192</td>\n      <td>3</td>\n      <td>214</td>\n      <td>1.030107e+19</td>\n      <td>775</td>\n      <td>0.932346</td>\n      <td>9149</td>\n      <td>58039</td>\n      <td>GALAXY</td>\n    </tr>\n    <tr>\n      <th>4</th>\n      <td>1.237680e+18</td>\n      <td>345.282593</td>\n      <td>21.183866</td>\n      <td>19.43718</td>\n      <td>17.58028</td>\n      <td>16.49747</td>\n      <td>15.97711</td>\n      <td>15.54461</td>\n      <td>8102</td>\n      <td>3</td>\n      <td>137</td>\n      <td>6.891865e+18</td>\n      <td>842</td>\n      <td>0.116123</td>\n      <td>6121</td>\n      <td>56187</td>\n      <td>GALAXY</td>\n    </tr>\n    <tr>\n      <th>...</th>\n      <td>...</td>\n      <td>...</td>\n      <td>...</td>\n      <td>...</td>\n      <td>...</td>\n      <td>...</td>\n      <td>...</td>\n      <td>...</td>\n      <td>...</td>\n      <td>...</td>\n      <td>...</td>\n      <td>...</td>\n      <td>...</td>\n      <td>...</td>\n      <td>...</td>\n      <td>...</td>\n      <td>...</td>\n    </tr>\n    <tr>\n      <th>99995</th>\n      <td>1.237679e+18</td>\n      <td>39.620709</td>\n      <td>-2.594074</td>\n      <td>22.16759</td>\n      <td>22.97586</td>\n      <td>21.90404</td>\n      <td>21.30548</td>\n      <td>20.73569</td>\n      <td>7778</td>\n      <td>2</td>\n      <td>581</td>\n      <td>1.055431e+19</td>\n      <td>438</td>\n      <td>0.000000</td>\n      <td>9374</td>\n      <td>57749</td>\n      <td>GALAXY</td>\n    </tr>\n    <tr>\n      <th>99996</th>\n      <td>1.237679e+18</td>\n      <td>29.493819</td>\n      <td>19.798874</td>\n      <td>22.69118</td>\n      <td>22.38628</td>\n      <td>20.45003</td>\n      <td>19.75759</td>\n      <td>19.41526</td>\n      <td>7917</td>\n      <td>1</td>\n      <td>289</td>\n      <td>8.586351e+18</td>\n      <td>866</td>\n      <td>0.404895</td>\n      <td>7626</td>\n      <td>56934</td>\n      <td>GALAXY</td>\n    </tr>\n    <tr>\n      <th>99997</th>\n      <td>1.237668e+18</td>\n      <td>224.587407</td>\n      <td>15.700707</td>\n      <td>21.16916</td>\n      <td>19.26997</td>\n      <td>18.20428</td>\n      <td>17.69034</td>\n      <td>17.35221</td>\n      <td>5314</td>\n      <td>4</td>\n      <td>308</td>\n      <td>3.112008e+18</td>\n      <td>74</td>\n      <td>0.143366</td>\n      <td>2764</td>\n      <td>54535</td>\n      <td>GALAXY</td>\n    </tr>\n    <tr>\n      <th>99998</th>\n      <td>1.237661e+18</td>\n      <td>212.268621</td>\n      <td>46.660365</td>\n      <td>25.35039</td>\n      <td>21.63757</td>\n      <td>19.91386</td>\n      <td>19.07254</td>\n      <td>18.62482</td>\n      <td>3650</td>\n      <td>4</td>\n      <td>131</td>\n      <td>7.601080e+18</td>\n      <td>470</td>\n      <td>0.455040</td>\n      <td>6751</td>\n      <td>56368</td>\n      <td>GALAXY</td>\n    </tr>\n    <tr>\n      <th>99999</th>\n      <td>1.237661e+18</td>\n      <td>196.896053</td>\n      <td>49.464643</td>\n      <td>22.62171</td>\n      <td>21.79745</td>\n      <td>20.60115</td>\n      <td>20.00959</td>\n      <td>19.28075</td>\n      <td>3650</td>\n      <td>4</td>\n      <td>60</td>\n      <td>8.343152e+18</td>\n      <td>851</td>\n      <td>0.542944</td>\n      <td>7410</td>\n      <td>57104</td>\n      <td>GALAXY</td>\n    </tr>\n  </tbody>\n</table>\n<p>100000 rows × 17 columns</p>\n</div>"
     },
     "execution_count": 1,
     "metadata": {},
     "output_type": "execute_result"
    }
   ],
   "source": [
    "import numpy as np\n",
    "import pandas as pd\n",
    "\n",
    "# Loads dataset from csv file\n",
    "# Dataset retrieved from\n",
    "df = pd.read_csv('star_classification.csv')\n",
    "df = df.reindex(columns=['obj_ID','alpha','delta','u','g','r','i','z','run_ID','rerun_ID','cam_col','field_ID','spec_obj_ID','fiber_ID','redshift','plate','MJD','class'])\n",
    "df = df.drop(columns=['rerun_ID'])\n",
    "df"
   ],
   "metadata": {
    "collapsed": false,
    "pycharm": {
     "name": "#%%\n"
    }
   }
  },
  {
   "cell_type": "code",
   "execution_count": 2,
   "outputs": [
    {
     "data": {
      "text/plain": "array([[1.23766114e+18, 1.60570204e+02, 3.87933152e+01, ...,\n        5.54880200e-01, 4.63300000e+03, 5.56200000e+04],\n       [1.23765154e+18, 1.93526046e+02, 6.75126083e+01, ...,\n        4.80790700e-01, 6.96400000e+03, 5.67480000e+04],\n       [1.23768031e+18, 2.28777155e+01, 3.02629986e+01, ...,\n        1.91938300e+00, 7.73000000e+03, 5.81070000e+04],\n       ...,\n       [1.23766138e+18, 1.56991726e+02, 3.86124564e+01, ...,\n        2.52848300e-04, 3.26200000e+03, 5.48840000e+04],\n       [1.23767126e+18, 5.58294316e+01, 9.76439658e+00, ...,\n        0.00000000e+00, 2.67900000e+03, 5.43680000e+04],\n       [1.23766513e+18, 1.89902619e+02, 3.37795907e+01, ...,\n        3.52528800e-01, 3.97100000e+03, 5.53220000e+04]])"
     },
     "execution_count": 2,
     "metadata": {},
     "output_type": "execute_result"
    }
   ],
   "source": [
    "from sklearn.model_selection import train_test_split\n",
    "# Splits the dataset into training and test sets\n",
    "X = df.drop(columns='class')\n",
    "y = df['class']\n",
    "X = X.to_numpy()\n",
    "y = y.to_numpy()\n",
    "# Note: same random_state used as sklearn tutorial example: https://scikit-learn.org/stable/modules/generated/sklearn.model_selection.train_test_split.html\n",
    "X_train_pre, X_rest, y_train, y_rest = train_test_split(X, y, test_size = 0.5, random_state = 42)\n",
    "X_test_pre, X_val_pre, y_test, y_val = train_test_split(X_rest, y_rest, test_size=0.5, random_state=42)\n",
    "X_train_pre"
   ],
   "metadata": {
    "collapsed": false,
    "pycharm": {
     "name": "#%%\n"
    }
   }
  },
  {
   "cell_type": "code",
   "execution_count": 3,
   "outputs": [
    {
     "data": {
      "text/plain": "(array([[-0.42423113, -0.17520082,  0.74644301, ..., -0.02830514,\n         -0.16749721,  0.0205338 ],\n        [-1.56250645,  0.16631444,  2.20679011, ..., -0.13018468,\n          0.62120448,  0.64356439],\n        [ 1.85015486, -1.60208249,  0.31268501, ...,  1.84800545,\n          0.88038316,  1.39418371],\n        ...,\n        [-0.39506893, -0.21228393,  0.73724652, ..., -0.79096622,\n         -0.63137967, -0.38598262],\n        [ 0.77612481, -1.26060998, -0.72964824, ..., -0.79131391,\n         -0.82863968, -0.67098598],\n        [ 0.04898649,  0.12876554,  0.49150017, ..., -0.306556  ,\n         -0.39148714, -0.14406117]]),\n array([[ 1.67766683,  1.74550721, -0.60363525, ..., -0.20929621,\n          0.34713826,  0.3613227 ],\n        [-0.82275773, -0.43618517,  0.88722332, ..., -0.35289479,\n         -0.17730946,  0.22103035],\n        [ 0.01568222,  0.23341547,  0.697055  , ..., -0.11415033,\n         -0.3881036 ,  0.01114415],\n        ...,\n        [ 0.35843296, -0.25386258, -0.20756909, ..., -0.7903939 ,\n         -0.659463  , -0.41580856],\n        [-0.28160515,  0.58601637,  0.2945127 , ..., -0.79164251,\n         -0.13738376,  0.08405199],\n        [-1.56244135,  0.68214611,  1.46905834, ...,  0.10335975,\n          0.99271647,  1.47371953]]),\n array([[ 0.3583051 , -0.35896255, -0.36403929, ..., -0.58862162,\n         -0.93386758, -1.00790856],\n        [-1.22313239, -0.11255482,  2.07226396, ..., -0.06857334,\n          0.67060407,  0.64245973],\n        [-0.28198726,  0.56170548,  0.63262729, ...,  0.0340625 ,\n          1.9001802 ,  1.44499826],\n        ...,\n        [ 1.68486158,  1.86352657, -0.57401602, ..., -0.79236792,\n          0.34578484,  0.33370609],\n        [ 0.01899398, -0.4872778 , -0.04050431, ..., -0.79131391,\n          2.02570929,  1.61898287],\n        [-0.28186007,  0.5328923 ,  0.74678476, ...,  0.25652482,\n          1.89984184,  1.4577019 ]]))"
     },
     "execution_count": 3,
     "metadata": {},
     "output_type": "execute_result"
    }
   ],
   "source": [
    "from sklearn import preprocessing\n",
    "# Use sklearn preprocessing to normalize both the training and test sets based on the training set\n",
    "s = preprocessing.StandardScaler().fit(X_train_pre)\n",
    "X_train = s.transform(X_train_pre)\n",
    "X_test = s.transform(X_test_pre)\n",
    "X_val = s.transform(X_val_pre)\n",
    "X_train, X_test, X_val"
   ],
   "metadata": {
    "collapsed": false,
    "pycharm": {
     "name": "#%%\n"
    }
   }
  },
  {
   "cell_type": "code",
   "execution_count": 4,
   "outputs": [
    {
     "name": "stdout",
     "output_type": "stream",
     "text": [
      "1 neighbors:\n",
      "Training set accuracy: 100.0%\n",
      "Val set accuracy: 90.08%\n",
      "2 neighbors:\n",
      "Training set accuracy: 93.93%\n",
      "Val set accuracy: 88.86%\n",
      "3 neighbors:\n",
      "Training set accuracy: 94.72%\n",
      "Val set accuracy: 91.02%\n",
      "4 neighbors:\n",
      "Training set accuracy: 92.79%\n",
      "Val set accuracy: 90.15%\n",
      "5 neighbors:\n",
      "Training set accuracy: 93.24%\n",
      "Val set accuracy: 90.82%\n"
     ]
    }
   ],
   "source": [
    "from sklearn.neighbors import KNeighborsClassifier\n",
    "# K-Nearest Neighbors classifier. Uses validation data to tune hyperparameter (k)\n",
    "for k in range(1, 6):\n",
    "    knn = KNeighborsClassifier(n_neighbors=k)\n",
    "    knn.fit(X_train, y_train)\n",
    "    knn_train_acc = knn.score(X_train, y_train)\n",
    "    knn_val_acc = knn.score(X_val, y_val)\n",
    "    print(k, \"neighbors:\")\n",
    "    print(\"Training set accuracy: \", round(knn_train_acc * 100,2),\"%\", sep='')\n",
    "    print(\"Val set accuracy: \", round(knn_val_acc * 100,2),\"%\", sep='')"
   ],
   "metadata": {
    "collapsed": false,
    "pycharm": {
     "name": "#%%\n"
    }
   }
  },
  {
   "cell_type": "code",
   "execution_count": 5,
   "outputs": [
    {
     "name": "stdout",
     "output_type": "stream",
     "text": [
      "Training set accuracy: 94.72%\n",
      "Test set accuracy: 90.86%\n"
     ]
    }
   ],
   "source": [
    "knn = KNeighborsClassifier(n_neighbors=3)\n",
    "knn.fit(X_train, y_train)\n",
    "knn_train_acc = knn.score(X_train, y_train)\n",
    "knn_test_acc = knn.score(X_test, y_test)\n",
    "print(\"Training set accuracy: \", round(knn_train_acc * 100,2),\"%\", sep='')\n",
    "print(\"Test set accuracy: \", round(knn_test_acc * 100,2),\"%\", sep='')"
   ],
   "metadata": {
    "collapsed": false,
    "pycharm": {
     "name": "#%%\n"
    }
   }
  },
  {
   "cell_type": "code",
   "execution_count": null,
   "outputs": [],
   "source": [],
   "metadata": {
    "collapsed": false,
    "pycharm": {
     "name": "#%%\n"
    }
   }
  }
 ],
 "metadata": {
  "kernelspec": {
   "display_name": "Python 3",
   "language": "python",
   "name": "python3"
  },
  "language_info": {
   "codemirror_mode": {
    "name": "ipython",
    "version": 2
   },
   "file_extension": ".py",
   "mimetype": "text/x-python",
   "name": "python",
   "nbconvert_exporter": "python",
   "pygments_lexer": "ipython2",
   "version": "2.7.6"
  }
 },
 "nbformat": 4,
 "nbformat_minor": 0
}