{
 "cells": [
  {
   "cell_type": "code",
   "execution_count": 1,
   "outputs": [
    {
     "data": {
      "text/plain": "             obj_ID       alpha      delta         u         g         r  \\\n0      1.237661e+18  135.689107  32.494632  23.87882  22.27530  20.39501   \n1      1.237665e+18  144.826101  31.274185  24.77759  22.83188  22.58444   \n2      1.237661e+18  142.188790  35.582444  25.26307  22.66389  20.60976   \n3      1.237663e+18  338.741038  -0.402828  22.13682  23.77656  21.61162   \n4      1.237680e+18  345.282593  21.183866  19.43718  17.58028  16.49747   \n...             ...         ...        ...       ...       ...       ...   \n99995  1.237679e+18   39.620709  -2.594074  22.16759  22.97586  21.90404   \n99996  1.237679e+18   29.493819  19.798874  22.69118  22.38628  20.45003   \n99997  1.237668e+18  224.587407  15.700707  21.16916  19.26997  18.20428   \n99998  1.237661e+18  212.268621  46.660365  25.35039  21.63757  19.91386   \n99999  1.237661e+18  196.896053  49.464643  22.62171  21.79745  20.60115   \n\n              i         z  run_ID  cam_col  field_ID   spec_obj_ID  fiber_ID  \\\n0      19.16573  18.79371    3606        2        79  6.543777e+18       171   \n1      21.16812  21.61427    4518        5       119  1.176014e+19       427   \n2      19.34857  18.94827    3606        2       120  5.152200e+18       299   \n3      20.50454  19.25010    4192        3       214  1.030107e+19       775   \n4      15.97711  15.54461    8102        3       137  6.891865e+18       842   \n...         ...       ...     ...      ...       ...           ...       ...   \n99995  21.30548  20.73569    7778        2       581  1.055431e+19       438   \n99996  19.75759  19.41526    7917        1       289  8.586351e+18       866   \n99997  17.69034  17.35221    5314        4       308  3.112008e+18        74   \n99998  19.07254  18.62482    3650        4       131  7.601080e+18       470   \n99999  20.00959  19.28075    3650        4        60  8.343152e+18       851   \n\n       redshift  plate    MJD   class  \n0      0.634794   5812  56354  GALAXY  \n1      0.779136  10445  58158  GALAXY  \n2      0.644195   4576  55592  GALAXY  \n3      0.932346   9149  58039  GALAXY  \n4      0.116123   6121  56187  GALAXY  \n...         ...    ...    ...     ...  \n99995  0.000000   9374  57749  GALAXY  \n99996  0.404895   7626  56934  GALAXY  \n99997  0.143366   2764  54535  GALAXY  \n99998  0.455040   6751  56368  GALAXY  \n99999  0.542944   7410  57104  GALAXY  \n\n[100000 rows x 17 columns]",
      "text/html": "<div>\n<style scoped>\n    .dataframe tbody tr th:only-of-type {\n        vertical-align: middle;\n    }\n\n    .dataframe tbody tr th {\n        vertical-align: top;\n    }\n\n    .dataframe thead th {\n        text-align: right;\n    }\n</style>\n<table border=\"1\" class=\"dataframe\">\n  <thead>\n    <tr style=\"text-align: right;\">\n      <th></th>\n      <th>obj_ID</th>\n      <th>alpha</th>\n      <th>delta</th>\n      <th>u</th>\n      <th>g</th>\n      <th>r</th>\n      <th>i</th>\n      <th>z</th>\n      <th>run_ID</th>\n      <th>cam_col</th>\n      <th>field_ID</th>\n      <th>spec_obj_ID</th>\n      <th>fiber_ID</th>\n      <th>redshift</th>\n      <th>plate</th>\n      <th>MJD</th>\n      <th>class</th>\n    </tr>\n  </thead>\n  <tbody>\n    <tr>\n      <th>0</th>\n      <td>1.237661e+18</td>\n      <td>135.689107</td>\n      <td>32.494632</td>\n      <td>23.87882</td>\n      <td>22.27530</td>\n      <td>20.39501</td>\n      <td>19.16573</td>\n      <td>18.79371</td>\n      <td>3606</td>\n      <td>2</td>\n      <td>79</td>\n      <td>6.543777e+18</td>\n      <td>171</td>\n      <td>0.634794</td>\n      <td>5812</td>\n      <td>56354</td>\n      <td>GALAXY</td>\n    </tr>\n    <tr>\n      <th>1</th>\n      <td>1.237665e+18</td>\n      <td>144.826101</td>\n      <td>31.274185</td>\n      <td>24.77759</td>\n      <td>22.83188</td>\n      <td>22.58444</td>\n      <td>21.16812</td>\n      <td>21.61427</td>\n      <td>4518</td>\n      <td>5</td>\n      <td>119</td>\n      <td>1.176014e+19</td>\n      <td>427</td>\n      <td>0.779136</td>\n      <td>10445</td>\n      <td>58158</td>\n      <td>GALAXY</td>\n    </tr>\n    <tr>\n      <th>2</th>\n      <td>1.237661e+18</td>\n      <td>142.188790</td>\n      <td>35.582444</td>\n      <td>25.26307</td>\n      <td>22.66389</td>\n      <td>20.60976</td>\n      <td>19.34857</td>\n      <td>18.94827</td>\n      <td>3606</td>\n      <td>2</td>\n      <td>120</td>\n      <td>5.152200e+18</td>\n      <td>299</td>\n      <td>0.644195</td>\n      <td>4576</td>\n      <td>55592</td>\n      <td>GALAXY</td>\n    </tr>\n    <tr>\n      <th>3</th>\n      <td>1.237663e+18</td>\n      <td>338.741038</td>\n      <td>-0.402828</td>\n      <td>22.13682</td>\n      <td>23.77656</td>\n      <td>21.61162</td>\n      <td>20.50454</td>\n      <td>19.25010</td>\n      <td>4192</td>\n      <td>3</td>\n      <td>214</td>\n      <td>1.030107e+19</td>\n      <td>775</td>\n      <td>0.932346</td>\n      <td>9149</td>\n      <td>58039</td>\n      <td>GALAXY</td>\n    </tr>\n    <tr>\n      <th>4</th>\n      <td>1.237680e+18</td>\n      <td>345.282593</td>\n      <td>21.183866</td>\n      <td>19.43718</td>\n      <td>17.58028</td>\n      <td>16.49747</td>\n      <td>15.97711</td>\n      <td>15.54461</td>\n      <td>8102</td>\n      <td>3</td>\n      <td>137</td>\n      <td>6.891865e+18</td>\n      <td>842</td>\n      <td>0.116123</td>\n      <td>6121</td>\n      <td>56187</td>\n      <td>GALAXY</td>\n    </tr>\n    <tr>\n      <th>...</th>\n      <td>...</td>\n      <td>...</td>\n      <td>...</td>\n      <td>...</td>\n      <td>...</td>\n      <td>...</td>\n      <td>...</td>\n      <td>...</td>\n      <td>...</td>\n      <td>...</td>\n      <td>...</td>\n      <td>...</td>\n      <td>...</td>\n      <td>...</td>\n      <td>...</td>\n      <td>...</td>\n      <td>...</td>\n    </tr>\n    <tr>\n      <th>99995</th>\n      <td>1.237679e+18</td>\n      <td>39.620709</td>\n      <td>-2.594074</td>\n      <td>22.16759</td>\n      <td>22.97586</td>\n      <td>21.90404</td>\n      <td>21.30548</td>\n      <td>20.73569</td>\n      <td>7778</td>\n      <td>2</td>\n      <td>581</td>\n      <td>1.055431e+19</td>\n      <td>438</td>\n      <td>0.000000</td>\n      <td>9374</td>\n      <td>57749</td>\n      <td>GALAXY</td>\n    </tr>\n    <tr>\n      <th>99996</th>\n      <td>1.237679e+18</td>\n      <td>29.493819</td>\n      <td>19.798874</td>\n      <td>22.69118</td>\n      <td>22.38628</td>\n      <td>20.45003</td>\n      <td>19.75759</td>\n      <td>19.41526</td>\n      <td>7917</td>\n      <td>1</td>\n      <td>289</td>\n      <td>8.586351e+18</td>\n      <td>866</td>\n      <td>0.404895</td>\n      <td>7626</td>\n      <td>56934</td>\n      <td>GALAXY</td>\n    </tr>\n    <tr>\n      <th>99997</th>\n      <td>1.237668e+18</td>\n      <td>224.587407</td>\n      <td>15.700707</td>\n      <td>21.16916</td>\n      <td>19.26997</td>\n      <td>18.20428</td>\n      <td>17.69034</td>\n      <td>17.35221</td>\n      <td>5314</td>\n      <td>4</td>\n      <td>308</td>\n      <td>3.112008e+18</td>\n      <td>74</td>\n      <td>0.143366</td>\n      <td>2764</td>\n      <td>54535</td>\n      <td>GALAXY</td>\n    </tr>\n    <tr>\n      <th>99998</th>\n      <td>1.237661e+18</td>\n      <td>212.268621</td>\n      <td>46.660365</td>\n      <td>25.35039</td>\n      <td>21.63757</td>\n      <td>19.91386</td>\n      <td>19.07254</td>\n      <td>18.62482</td>\n      <td>3650</td>\n      <td>4</td>\n      <td>131</td>\n      <td>7.601080e+18</td>\n      <td>470</td>\n      <td>0.455040</td>\n      <td>6751</td>\n      <td>56368</td>\n      <td>GALAXY</td>\n    </tr>\n    <tr>\n      <th>99999</th>\n      <td>1.237661e+18</td>\n      <td>196.896053</td>\n      <td>49.464643</td>\n      <td>22.62171</td>\n      <td>21.79745</td>\n      <td>20.60115</td>\n      <td>20.00959</td>\n      <td>19.28075</td>\n      <td>3650</td>\n      <td>4</td>\n      <td>60</td>\n      <td>8.343152e+18</td>\n      <td>851</td>\n      <td>0.542944</td>\n      <td>7410</td>\n      <td>57104</td>\n      <td>GALAXY</td>\n    </tr>\n  </tbody>\n</table>\n<p>100000 rows × 17 columns</p>\n</div>"
     },
     "execution_count": 1,
     "metadata": {},
     "output_type": "execute_result"
    }
   ],
   "source": [
    "import numpy as np\n",
    "import pandas as pd\n",
    "\n",
    "# Loads dataset from csv file\n",
    "# Dataset retrieved from\n",
    "df = pd.read_csv('star_classification.csv')\n",
    "df = df.reindex(columns=['obj_ID','alpha','delta','u','g','r','i','z','run_ID','rerun_ID','cam_col','field_ID','spec_obj_ID','fiber_ID','redshift','plate','MJD','class'])\n",
    "df = df.drop(columns=['rerun_ID'])\n",
    "df"
   ],
   "metadata": {
    "collapsed": false,
    "pycharm": {
     "name": "#%%\n"
    }
   }
  },
  {
   "cell_type": "code",
   "execution_count": 2,
   "outputs": [
    {
     "data": {
      "text/plain": "array([[ 1.23765842e+18,  1.30932167e+02,  4.31341083e+00, ...,\n         1.55863500e-01,  1.18800000e+03,  5.26500000e+04],\n       [ 1.23766223e+18,  2.25429599e+02,  3.31720833e+01, ...,\n        -5.28718800e-04,  2.93500000e+03,  5.46520000e+04],\n       [ 1.23765933e+18,  2.19173525e+02,  5.55117400e+01, ...,\n        -2.60513700e-04,  3.29600000e+03,  5.49090000e+04],\n       ...,\n       [ 1.23766138e+18,  1.56991726e+02,  3.86124564e+01, ...,\n         2.52848300e-04,  3.26200000e+03,  5.48840000e+04],\n       [ 1.23767126e+18,  5.58294316e+01,  9.76439658e+00, ...,\n         0.00000000e+00,  2.67900000e+03,  5.43680000e+04],\n       [ 1.23766513e+18,  1.89902619e+02,  3.37795907e+01, ...,\n         3.52528800e-01,  3.97100000e+03,  5.53220000e+04]])"
     },
     "execution_count": 2,
     "metadata": {},
     "output_type": "execute_result"
    }
   ],
   "source": [
    "from sklearn.model_selection import train_test_split\n",
    "# Splits the dataset into training and test sets\n",
    "X = df.drop(columns='class')\n",
    "y = df['class']\n",
    "X = X.to_numpy()\n",
    "y = y.to_numpy()\n",
    "# Note: same random_state used as sklearn tutorial example: https://scikit-learn.org/stable/modules/generated/sklearn.model_selection.train_test_split.html\n",
    "X_train_pre, X_test_pre, y_train, y_test = train_test_split(X, y, test_size = 0.3, random_state = 42)\n",
    "X_train_pre"
   ],
   "metadata": {
    "collapsed": false,
    "pycharm": {
     "name": "#%%\n"
    }
   }
  },
  {
   "cell_type": "code",
   "execution_count": 3,
   "outputs": [
    {
     "data": {
      "text/plain": "(array([[-0.74418429, -0.48390605, -1.00945814, ..., -0.57578196,\n         -1.33420844, -1.62135443],\n        [-0.29306738,  0.49756661,  0.45809196, ..., -0.78957587,\n         -0.74322585, -0.51517188],\n        [-0.63710731,  0.43258954,  1.59413054, ..., -0.78920923,\n         -0.62110523, -0.37316943],\n        ...,\n        [-0.39307749, -0.21324531,  0.73475126, ..., -0.78850744,\n         -0.6326069 , -0.3869829 ],\n        [ 0.778593  , -1.26394079, -0.73225915, ..., -0.7888531 ,\n         -0.82982662, -0.67209288],\n        [ 0.05115868,  0.128575  ,  0.48898554, ..., -0.30693327,\n         -0.39276336, -0.14497093]]),\n array([[ 1.64954625, -1.6676802 , -1.04339136, ..., -0.09680864,\n         -0.27740843, -0.04054111],\n        [-0.29638243,  0.64955506, -0.91686907, ..., -0.78838172,\n         -1.00032188, -0.53727343],\n        [ 1.65177643, -1.52299647, -1.16835857, ..., -0.78884751,\n          0.74421002,  0.60703429],\n        ...,\n        [-0.28402596,  0.33124459,  1.30610361, ..., -0.78917817,\n          0.77803845,  0.84131071],\n        [ 0.05752589,  0.51214587,  0.098962  , ...,  1.51790934,\n         -1.00742585, -0.57760876],\n        [-0.52843728, -1.35610396, -1.18532792, ..., -0.78863638,\n         -1.37547912, -1.65505929]]))"
     },
     "execution_count": 3,
     "metadata": {},
     "output_type": "execute_result"
    }
   ],
   "source": [
    "from sklearn import preprocessing\n",
    "# Use sklearn preprocessing to normalize both the training and test sets based on the training set\n",
    "s = preprocessing.StandardScaler().fit(X_train_pre)\n",
    "X_train = s.transform(X_train_pre)\n",
    "X_test = s.transform(X_test_pre)\n",
    "X_train, X_test"
   ],
   "metadata": {
    "collapsed": false,
    "pycharm": {
     "name": "#%%\n"
    }
   }
  },
  {
   "cell_type": "code",
   "execution_count": 4,
   "outputs": [
    {
     "name": "stdout",
     "output_type": "stream",
     "text": [
      "Training set accuracy: 100.0%\n",
      "Test set accuracy: 96.52%\n"
     ]
    }
   ],
   "source": [
    "from sklearn.tree import DecisionTreeClassifier\n",
    "# Uses decision tree classifier with default parameters\n",
    "# By default, uses Gini impurity to measure the quality of split at each step\n",
    "dtree = DecisionTreeClassifier()\n",
    "dtree.fit(X_train, y_train)\n",
    "dtree_train_acc = dtree.score(X_train, y_train)\n",
    "dtree_test_acc = dtree.score(X_test, y_test)\n",
    "print(\"Training set accuracy: \", round(dtree_train_acc * 100,2),\"%\", sep='')\n",
    "print(\"Test set accuracy: \", round(dtree_test_acc * 100,2),\"%\", sep='')"
   ],
   "metadata": {
    "collapsed": false,
    "pycharm": {
     "name": "#%%\n"
    }
   }
  },
  {
   "cell_type": "code",
   "execution_count": 5,
   "outputs": [
    {
     "name": "stdout",
     "output_type": "stream",
     "text": [
      "Training set accuracy: 100.0%\n",
      "Test set accuracy: 96.48%\n"
     ]
    }
   ],
   "source": [
    "from sklearn.tree import DecisionTreeClassifier\n",
    "# Same as before, but uses entropy instead to measure slit quality/information gain\n",
    "dtree = DecisionTreeClassifier(criterion='entropy')\n",
    "dtree.fit(X_train, y_train)\n",
    "dtree_train_acc = dtree.score(X_train, y_train)\n",
    "dtree_test_acc = dtree.score(X_test, y_test)\n",
    "print(\"Training set accuracy: \", round(dtree_train_acc * 100,2),\"%\", sep='')\n",
    "print(\"Test set accuracy: \", round(dtree_test_acc * 100,2),\"%\", sep='')"
   ],
   "metadata": {
    "collapsed": false,
    "pycharm": {
     "name": "#%%\n"
    }
   }
  },
  {
   "cell_type": "code",
   "execution_count": 6,
   "outputs": [
    {
     "name": "stdout",
     "output_type": "stream",
     "text": [
      "Training set accuracy: 97.79%\n",
      "Test set accuracy: 97.63%\n"
     ]
    }
   ],
   "source": [
    "from sklearn.ensemble import GradientBoostingClassifier\n",
    "# Uses gradient boosting to improve the performance of the decision tree classifier\n",
    "# Default parameters used\n",
    "gbTree = GradientBoostingClassifier()\n",
    "gbTree.fit(X_train, y_train)\n",
    "gb_train_acc = gbTree.score(X_train, y_train)\n",
    "gb_test_acc = gbTree.score(X_test, y_test)\n",
    "print(\"Training set accuracy: \", round(gb_train_acc * 100,2),\"%\", sep='')\n",
    "print(\"Test set accuracy: \", round(gb_test_acc * 100,2),\"%\", sep='')"
   ],
   "metadata": {
    "collapsed": false,
    "pycharm": {
     "name": "#%%\n"
    }
   }
  },
  {
   "cell_type": "code",
   "execution_count": 7,
   "outputs": [
    {
     "name": "stdout",
     "output_type": "stream",
     "text": [
      "Training set accuracy: 100.0%\n",
      "Test set accuracy: 97.85%\n"
     ]
    }
   ],
   "source": [
    "from sklearn.ensemble import RandomForestClassifier\n",
    "# Uses random forest classifier as a different option for improving the performance of the decision tree classifier\n",
    "rf = RandomForestClassifier()\n",
    "rf.fit(X_train, y_train)\n",
    "rf_train_acc = rf.score(X_train, y_train)\n",
    "rf_test_acc = rf.score(X_test, y_test)\n",
    "print(\"Training set accuracy: \", round(rf_train_acc * 100,2),\"%\", sep='')\n",
    "print(\"Test set accuracy: \", round(rf_test_acc * 100,2),\"%\", sep='')"
   ],
   "metadata": {
    "collapsed": false,
    "pycharm": {
     "name": "#%%\n"
    }
   }
  },
  {
   "cell_type": "code",
   "execution_count": null,
   "outputs": [],
   "source": [],
   "metadata": {
    "collapsed": false,
    "pycharm": {
     "name": "#%%\n"
    }
   }
  }
 ],
 "metadata": {
  "kernelspec": {
   "display_name": "Python 3",
   "language": "python",
   "name": "python3"
  },
  "language_info": {
   "codemirror_mode": {
    "name": "ipython",
    "version": 2
   },
   "file_extension": ".py",
   "mimetype": "text/x-python",
   "name": "python",
   "nbconvert_exporter": "python",
   "pygments_lexer": "ipython2",
   "version": "2.7.6"
  }
 },
 "nbformat": 4,
 "nbformat_minor": 0
}